{
 "cells": [
  {
   "cell_type": "markdown",
   "id": "fb68e0a8",
   "metadata": {},
   "source": [
    "# MDF Final Project - Fetching Presidential Approval Ratings"
   ]
  },
  {
   "cell_type": "markdown",
   "id": "b77a697d",
   "metadata": {},
   "source": [
    "## Setup"
   ]
  },
  {
   "cell_type": "code",
   "execution_count": 1,
   "id": "c98e3d88",
   "metadata": {},
   "outputs": [],
   "source": [
    "import pyspark\n",
    "import pandas as pd\n",
    "import numpy as np\n",
    "import bs4\n",
    "#pip install html5lib\n",
    "#pip install lxml"
   ]
  },
  {
   "cell_type": "markdown",
   "id": "8876dd8f",
   "metadata": {},
   "source": [
    "## Getting tables for presidential approval ratings"
   ]
  },
  {
   "cell_type": "markdown",
   "id": "dc3c3777",
   "metadata": {},
   "source": [
    "Presidential approval rating data comes from the American Presidency Project, a non-profit and non-partisan institution with a focus on the legacies of US presidents. More info here: https://www.presidency.ucsb.edu/statistics/data/presidential-job-approval-all-data"
   ]
  },
  {
   "cell_type": "code",
   "execution_count": 3,
   "id": "a6337c07",
   "metadata": {},
   "outputs": [],
   "source": [
    "# Defining Function for web scraping and table extraction\n",
    "def webscrape_table(url):\n",
    "    '''Get tables from URL'''\n",
    "    tables = pd.read_html(url)\n",
    "    '''If the webpage has multiple tables, choose the desired one'''\n",
    "    table = tables[0]\n",
    "    '''Return the extracted table'''\n",
    "    return(table)\n"
   ]
  },
  {
   "cell_type": "code",
   "execution_count": 4,
   "id": "434182f5",
   "metadata": {},
   "outputs": [],
   "source": [
    "# Bush (2)\n",
    "bush = webscrape_table(\"https://www.presidency.ucsb.edu/statistics/data/george-w-bush-public-approval\")\n",
    "\n",
    "# Obama\n",
    "obama = webscrape_table(\"https://www.presidency.ucsb.edu/statistics/data/barack-obama-public-approval\")\n",
    "\n",
    "# Trump (1st term) table\n",
    "trump1 = webscrape_table(\"https://www.presidency.ucsb.edu/statistics/data/donald-j-trump-public-approval\")\n",
    "\n",
    "# Biden table\n",
    "biden = webscrape_table(\"https://www.presidency.ucsb.edu/statistics/data/joseph-r-biden-public-approval\")\n",
    "\n",
    "# Trump (2nd term) table\n",
    "trump2 = webscrape_table(\"https://www.presidency.ucsb.edu/statistics/data/donald-j-trump-2nd-term-public-approval\")\n"
   ]
  },
  {
   "cell_type": "markdown",
   "id": "d09f8e64",
   "metadata": {},
   "source": [
    "## Cleaning tables"
   ]
  },
  {
   "cell_type": "code",
   "execution_count": 5,
   "id": "0ae7b3fc",
   "metadata": {},
   "outputs": [],
   "source": [
    "# Adding party labels\n",
    "bush['party'] = \"R\"\n",
    "trump1['party'] = \"R\"\n",
    "trump2['party'] = \"R\"\n",
    "obama['party'] = \"D\"\n",
    "biden['party'] = \"D\""
   ]
  },
  {
   "cell_type": "code",
   "execution_count": 6,
   "id": "791032ed",
   "metadata": {},
   "outputs": [],
   "source": [
    "# Preliminary cleaning\n",
    "biden['Start Date'] = biden['Start Date'].replace(\"12/1/2/021\", \"12/1/2021\")\n",
    "trump1 = trump1.dropna(subset=[\"Start Date\"])\n",
    "obama = obama.dropna(subset=[\"Start Date\"])"
   ]
  },
  {
   "cell_type": "code",
   "execution_count": 7,
   "id": "bde2a9da",
   "metadata": {},
   "outputs": [],
   "source": [
    "# Defining functions to reformat tables (pivoting dates to long and adding in dates)"
   ]
  },
  {
   "cell_type": "code",
   "execution_count": 8,
   "id": "0277fb6b",
   "metadata": {},
   "outputs": [],
   "source": [
    "def reformat_table(df):\n",
    "    '''Formatting date columns to date-time'''\n",
    "    df[\"Start Date\"] = pd.to_datetime(df[\"Start Date\"], format='mixed', errors=\"coerce\")\n",
    "    df[\"End Date\"] = pd.to_datetime(df[\"End Date\"], format='mixed', errors=\"coerce\")\n",
    "\n",
    "    '''Expand date ranges into individual dates'''\n",
    "    expanded_df = df.apply(lambda row: pd.DataFrame({\n",
    "        'date': pd.date_range(row['Start Date'], row['End Date']),\n",
    "        'Approving': row['Approving'],\n",
    "        'Disapproving': row['Disapproving'],\n",
    "        'Unsure/NoData': row['Unsure/NoData'],\n",
    "        'party' : row['party']\n",
    "    }), axis=1)\n",
    "\n",
    "    '''Convert list of dataframes to a single dataframe'''\n",
    "    expanded_df = pd.concat(expanded_df.tolist(), ignore_index=True)\n",
    "\n",
    "    '''Return new df'''\n",
    "    return(expanded_df)"
   ]
  },
  {
   "cell_type": "code",
   "execution_count": 9,
   "id": "2684f3fc",
   "metadata": {},
   "outputs": [],
   "source": [
    "# Reformating\n",
    "bush_clean = reformat_table(bush)\n",
    "obama_clean = reformat_table(obama)\n",
    "trump1_clean = reformat_table(trump1)\n",
    "biden_clean = reformat_table(biden)\n",
    "trump2_clean = reformat_table(trump2)"
   ]
  },
  {
   "cell_type": "code",
   "execution_count": 10,
   "id": "fef84310",
   "metadata": {},
   "outputs": [],
   "source": [
    "# Binding\n",
    "approval = pd.concat([bush_clean, \n",
    "                      obama_clean,\n",
    "                      trump1_clean, \n",
    "                      biden_clean,\n",
    "                      trump2_clean], axis=0)"
   ]
  },
  {
   "cell_type": "code",
   "execution_count": 11,
   "id": "ffd1117a",
   "metadata": {},
   "outputs": [],
   "source": [
    "# Exporting\n",
    "approval.to_csv('approval.csv', index=False)"
   ]
  },
  {
   "cell_type": "code",
   "execution_count": 12,
   "id": "8b4f6c3d",
   "metadata": {},
   "outputs": [
    {
     "data": {
      "text/html": [
       "<div>\n",
       "<style scoped>\n",
       "    .dataframe tbody tr th:only-of-type {\n",
       "        vertical-align: middle;\n",
       "    }\n",
       "\n",
       "    .dataframe tbody tr th {\n",
       "        vertical-align: top;\n",
       "    }\n",
       "\n",
       "    .dataframe thead th {\n",
       "        text-align: right;\n",
       "    }\n",
       "</style>\n",
       "<table border=\"1\" class=\"dataframe\">\n",
       "  <thead>\n",
       "    <tr style=\"text-align: right;\">\n",
       "      <th></th>\n",
       "      <th>date</th>\n",
       "      <th>Approving</th>\n",
       "      <th>Disapproving</th>\n",
       "      <th>Unsure/NoData</th>\n",
       "      <th>party</th>\n",
       "    </tr>\n",
       "  </thead>\n",
       "  <tbody>\n",
       "    <tr>\n",
       "      <th>0</th>\n",
       "      <td>2009-01-09</td>\n",
       "      <td>34.0</td>\n",
       "      <td>61.0</td>\n",
       "      <td>5.0</td>\n",
       "      <td>R</td>\n",
       "    </tr>\n",
       "    <tr>\n",
       "      <th>1</th>\n",
       "      <td>2009-01-10</td>\n",
       "      <td>34.0</td>\n",
       "      <td>61.0</td>\n",
       "      <td>5.0</td>\n",
       "      <td>R</td>\n",
       "    </tr>\n",
       "    <tr>\n",
       "      <th>2</th>\n",
       "      <td>2009-01-11</td>\n",
       "      <td>34.0</td>\n",
       "      <td>61.0</td>\n",
       "      <td>5.0</td>\n",
       "      <td>R</td>\n",
       "    </tr>\n",
       "    <tr>\n",
       "      <th>3</th>\n",
       "      <td>2008-12-12</td>\n",
       "      <td>29.0</td>\n",
       "      <td>67.0</td>\n",
       "      <td>4.0</td>\n",
       "      <td>R</td>\n",
       "    </tr>\n",
       "    <tr>\n",
       "      <th>4</th>\n",
       "      <td>2008-12-13</td>\n",
       "      <td>29.0</td>\n",
       "      <td>67.0</td>\n",
       "      <td>4.0</td>\n",
       "      <td>R</td>\n",
       "    </tr>\n",
       "  </tbody>\n",
       "</table>\n",
       "</div>"
      ],
      "text/plain": [
       "        date  Approving  Disapproving  Unsure/NoData party\n",
       "0 2009-01-09       34.0          61.0            5.0     R\n",
       "1 2009-01-10       34.0          61.0            5.0     R\n",
       "2 2009-01-11       34.0          61.0            5.0     R\n",
       "3 2008-12-12       29.0          67.0            4.0     R\n",
       "4 2008-12-13       29.0          67.0            4.0     R"
      ]
     },
     "execution_count": 12,
     "metadata": {},
     "output_type": "execute_result"
    }
   ],
   "source": [
    "approval.head()"
   ]
  }
 ],
 "metadata": {
  "kernelspec": {
   "display_name": "Python (PySpark)",
   "language": "python",
   "name": "pyspark-env"
  },
  "language_info": {
   "codemirror_mode": {
    "name": "ipython",
    "version": 3
   },
   "file_extension": ".py",
   "mimetype": "text/x-python",
   "name": "python",
   "nbconvert_exporter": "python",
   "pygments_lexer": "ipython3",
   "version": "3.12.6"
  }
 },
 "nbformat": 4,
 "nbformat_minor": 5
}
